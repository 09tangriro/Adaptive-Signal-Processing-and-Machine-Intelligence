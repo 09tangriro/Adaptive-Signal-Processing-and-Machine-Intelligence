{
 "cells": [
  {
   "cell_type": "code",
   "execution_count": 1,
   "metadata": {},
   "outputs": [],
   "source": [
    "%load_ext autoreload\n",
    "%autoreload 2\n",
    "%matplotlib inline"
   ]
  },
  {
   "cell_type": "code",
   "execution_count": 2,
   "metadata": {},
   "outputs": [],
   "source": [
    "import numpy as np\n",
    "import matplotlib.pyplot as plt\n",
    "from hottbox.core import Tensor"
   ]
  },
  {
   "cell_type": "markdown",
   "metadata": {
    "toc-hr-collapsed": false
   },
   "source": [
    "[Return to Table of Contents](./0_Table_of_contents.ipynb)"
   ]
  },
  {
   "cell_type": "markdown",
   "metadata": {
    "toc-hr-collapsed": false
   },
   "source": [
    "# Tensors and basic operations"
   ]
  },
  {
   "cell_type": "markdown",
   "metadata": {
    "toc-hr-collapsed": true
   },
   "source": [
    "<img src=\"./imgs/tensors_dogs.jpg\" alt=\"Drawing\" style=\"width: 500px;\"/>\n",
    "\n",
    "A tensor is a multi-dimenaional array of data where each dimension is conventionally referred to as the **mode**. Tensor order is defined by the number of its modes which is equivivalent to the number of indices required to identify a particular entry of a multi-dimensional array. For ease of visualisation and compact notation, we consider a third order tensor $\\mathbf{\\underline{X}} \\in \\mathbb{R}^{I \\times J \\times K}$. Thus, an element of such a tensor, $\\mathbf{\\underline{X}} \\in \\mathbb{R}^{I \\times J \\times K}$, can be written in a general form as:\n",
    "\n",
    "$$ x_{ijk} = \\mathbf{\\underline{X}}[i, j, k]$$\n",
    "\n",
    "> **Note:** In order to be consistent with Python indexing, count of modes and elements within starts from zeros.\n",
    "\n",
    "Creation of a tensor starts with a formation of a multidimensional array of data."
   ]
  },
  {
   "cell_type": "code",
   "execution_count": 3,
   "metadata": {},
   "outputs": [
    {
     "name": "stdout",
     "output_type": "stream",
     "text": [
      "This tensor is of order 3 and consists of 24 elements.\n",
      "Sizes and names of its modes are (2, 3, 4) and ['mode-0', 'mode-1', 'mode-2'] respectively.\n"
     ]
    },
    {
     "data": {
      "text/plain": [
       "array([[[ 0,  1,  2,  3],\n",
       "        [ 4,  5,  6,  7],\n",
       "        [ 8,  9, 10, 11]],\n",
       "\n",
       "       [[12, 13, 14, 15],\n",
       "        [16, 17, 18, 19],\n",
       "        [20, 21, 22, 23]]])"
      ]
     },
     "execution_count": 3,
     "metadata": {},
     "output_type": "execute_result"
    }
   ],
   "source": [
    "# Create 3-d array of data\n",
    "array_3d = np.arange(24).reshape((2, 3, 4))\n",
    "\n",
    "# Create tensor\n",
    "tensor = Tensor(array_3d)\n",
    "\n",
    "# Result preview\n",
    "print(tensor)\n",
    "tensor.data"
   ]
  },
  {
   "cell_type": "markdown",
   "metadata": {
    "toc-hr-collapsed": true
   },
   "source": [
    "## **Assigment 1**\n",
    "\n",
    "1. Create a tensor of order 5 (of any shape) and with all its values equal to 5. Then, calculate its Frobenious norm. \n",
    "2. Construct several tensors of orders varying from 3 to 20, with the size of each dimension equal to 2. Plot the relation between an order of a tensor and the number of its elements.\n",
    "3. Construct several tensors of order 3 with the size of each dimension varying from 3 to 15. Plot the relation between the size of dimensions of a tensor and the number of its elements.\n",
    "4. Analyse and compare the so obtained graphs."
   ]
  },
  {
   "cell_type": "markdown",
   "metadata": {},
   "source": [
    "### Solution: Part 1"
   ]
  },
  {
   "cell_type": "code",
   "execution_count": 4,
   "metadata": {},
   "outputs": [
    {
     "name": "stdout",
     "output_type": "stream",
     "text": [
      "This tensor is of order 5 and consists of 3125 elements.\n",
      "Sizes and names of its modes are (5, 5, 5, 5, 5) and ['mode-0', 'mode-1', 'mode-2', 'mode-3', 'mode-4'] respectively.\n"
     ]
    }
   ],
   "source": [
    "# Create a tensor\n",
    "l = [5]*3125\n",
    "array_5d = np.array(l).reshape((5,5,5,5,5))\n",
    "\n",
    "tensor_5d = Tensor(array_5d)\n",
    "print(tensor_5d)"
   ]
  },
  {
   "cell_type": "code",
   "execution_count": 5,
   "metadata": {},
   "outputs": [
    {
     "name": "stdout",
     "output_type": "stream",
     "text": [
      "279.5084971874737\n"
     ]
    }
   ],
   "source": [
    "# Calculate Frobenious norm\n",
    "norm = np.linalg.norm(array_5d)\n",
    "print(norm)"
   ]
  },
  {
   "cell_type": "markdown",
   "metadata": {},
   "source": [
    "### Solution: Part 2"
   ]
  },
  {
   "cell_type": "code",
   "execution_count": 6,
   "metadata": {},
   "outputs": [
    {
     "name": "stdout",
     "output_type": "stream",
     "text": [
      "Example Tensor Shape =  (2, 2, 2, 2, 2, 2, 2, 2, 2, 2, 2, 2, 2, 2, 2)\n"
     ]
    }
   ],
   "source": [
    "# Create tensors and collect information\n",
    "tensor_list =[]\n",
    "n_elements =[]\n",
    "\n",
    "dim = [2]\n",
    "\n",
    "order = range(3, 21)\n",
    "\n",
    "for index_order in order:\n",
    "    tensor_list.append(np.ones(dim * index_order))\n",
    "    n_elements.append(np.ones(dim * index_order).size)\n",
    "\n",
    "\n",
    "print('Example Tensor Shape = ',tensor_list[12].shape)"
   ]
  },
  {
   "cell_type": "code",
   "execution_count": 7,
   "metadata": {},
   "outputs": [
    {
     "data": {
      "image/png": "[encoded data removed]",
      "text/plain": [
       "<Figure size 432x288 with 1 Axes>"
      ]
     },
     "metadata": {
      "needs_background": "light"
     },
     "output_type": "display_data"
    }
   ],
   "source": [
    "# Plot results\n",
    "plt.plot(order, n_elements)\n",
    "plt.legend(['Dimensions = 2'])\n",
    "plt.title('Relationship between Tensor Order and Number of Elements')\n",
    "plt.xlabel('Tensor Order')\n",
    "plt.ylabel('Number of Elements')\n",
    "plt.show()"
   ]
  },
  {
   "cell_type": "markdown",
   "metadata": {},
   "source": [
    "### Solution: Part 3"
   ]
  },
  {
   "cell_type": "code",
   "execution_count": 8,
   "metadata": {},
   "outputs": [
    {
     "name": "stdout",
     "output_type": "stream",
     "text": [
      "Example Tensor Shape =  (9, 9, 9)\n"
     ]
    }
   ],
   "source": [
    "# Create tensors and collect information\n",
    "\n",
    "tensor_list =[]\n",
    "n_elements =[]\n",
    "\n",
    "order = 3\n",
    "\n",
    "size = range(3, 16)\n",
    "\n",
    "for index_size in size:\n",
    "    tensor_list.append(np.ones(order * [index_size]))\n",
    "    n_elements.append(np.ones(order * [index_size]).size)\n",
    "\n",
    "    \n",
    "print('Example Tensor Shape = ',tensor_list[6].shape)"
   ]
  },
  {
   "cell_type": "code",
   "execution_count": 9,
   "metadata": {},
   "outputs": [
    {
     "data": {
      "image/png": "[encoded data removed]",
      "text/plain": [
       "<Figure size 432x288 with 1 Axes>"
      ]
     },
     "metadata": {
      "needs_background": "light"
     },
     "output_type": "display_data"
    }
   ],
   "source": [
    "# Plot results\n",
    "\n",
    "plt.plot(size, n_elements)\n",
    "plt.legend(['Order = 3'])\n",
    "plt.title('Relationship between Dimension Size and Number of Elements')\n",
    "plt.xlabel('Dimension')\n",
    "plt.ylabel('Number of Elements')\n",
    "plt.show()"
   ]
  },
  {
   "cell_type": "markdown",
   "metadata": {},
   "source": [
    "### Solution: Part 4"
   ]
  },
  {
   "cell_type": "markdown",
   "metadata": {},
   "source": [
    "The relationship between the tensor order and number of elements is clearly exponential in nature whereas the relationship between the tensor dimension and the number of elements is polynomial. Therefore, increasing the order of the tensor has a much more dramatic effect on the memory required to store the tensor compared to increasing the dimension size of the tensor given that exponentials increase much more rapidly than polynomials.\n"
   ]
  },
  {
   "cell_type": "markdown",
   "metadata": {
    "toc-hr-collapsed": false
   },
   "source": [
    "# Most common tensor substructures\n",
    "<img src=\"./imgs/tensor_substructures.png\" alt=\"Drawing\" style=\"width: 500px;\"/>\n",
    "\n",
    "1. A **fiber** is a vector obtained by fixing all but one of the indices, e.g.  $\\mathbf{\\underline{X}}[i,:,k]$ is the mode-2 fiber $\\mathbf{\\underline{X}}$ (usually refered to as row fiber). \n",
    "\n",
    "1. Fixing all but two of the indices yields a matrix called a **slice** of a tensor, e.g. $\\mathbf{\\underline{X}}[:,:,k]$ is the mode-[1,2] slice (usually refered to as the frontal slice).\n",
    "\n",
    "**Note:** The same principles and definitions can be applied to a tensor of an arbitrarily large order. In addition, you can obtain a **subtensor** by fixing at least three indices and letting the remaining ones vary."
   ]
  },
  {
   "cell_type": "code",
   "execution_count": 10,
   "metadata": {},
   "outputs": [
    {
     "data": {
      "text/plain": [
       "array([4, 5, 6, 7])"
      ]
     },
     "execution_count": 10,
     "metadata": {},
     "output_type": "execute_result"
    }
   ],
   "source": [
    "# Mode-2 fiber\n",
    "tensor.data[0,1,:]"
   ]
  },
  {
   "cell_type": "code",
   "execution_count": 11,
   "metadata": {},
   "outputs": [
    {
     "data": {
      "text/plain": [
       "array([[ 0,  1,  2,  3],\n",
       "       [ 4,  5,  6,  7],\n",
       "       [ 8,  9, 10, 11]])"
      ]
     },
     "execution_count": 11,
     "metadata": {},
     "output_type": "execute_result"
    }
   ],
   "source": [
    "# Frontal slice\n",
    "tensor.data[0,:,:]"
   ]
  },
  {
   "cell_type": "markdown",
   "metadata": {
    "toc-hr-collapsed": true
   },
   "source": [
    "## **Assigment 2**\n",
    "\n",
    "1. Create a tensor of order 4 which consists of 81 elements and display all its horizontal slices and any five row fibers.\n",
    "2. Create a tensor of order 3 and shape `(4,2,5)`, where the values of each consequent frontal slice are doubled."
   ]
  },
  {
   "cell_type": "markdown",
   "metadata": {},
   "source": [
    "### Solution: Part 1"
   ]
  },
  {
   "cell_type": "code",
   "execution_count": 12,
   "metadata": {},
   "outputs": [
    {
     "name": "stdout",
     "output_type": "stream",
     "text": [
      "This tensor is of order 4 and consists of 81 elements.\n",
      "Sizes and names of its modes are (3, 3, 3, 3) and ['mode-0', 'mode-1', 'mode-2', 'mode-3'] respectively.\n"
     ]
    }
   ],
   "source": [
    "# Create a tensor of order 4\n",
    "array = np.random.rand(3,3,3,3)\n",
    "tensor = Tensor(array)\n",
    "print(tensor)"
   ]
  },
  {
   "cell_type": "code",
   "execution_count": 13,
   "metadata": {},
   "outputs": [
    {
     "name": "stdout",
     "output_type": "stream",
     "text": [
      "Horizontal slice 0: \n",
      "[[[0.2323676  0.57847143 0.73047325]\n",
      "  [0.80038272 0.53977673 0.81194321]\n",
      "  [0.47693008 0.69134753 0.34870057]]\n",
      "\n",
      " [[0.00947516 0.67550349 0.88774883]\n",
      "  [0.85010254 0.26483237 0.50320103]\n",
      "  [0.90740021 0.59620583 0.73686015]]\n",
      "\n",
      " [[0.99524197 0.87510419 0.55994096]\n",
      "  [0.66584403 0.51370977 0.15842101]\n",
      "  [0.5757981  0.01145835 0.56643155]]] \n",
      "\n",
      "Horizontal slice 1: \n",
      "[[[0.15700843 0.73363839 0.05934281]\n",
      "  [0.23679617 0.36211092 0.17878348]\n",
      "  [0.27399698 0.29625239 0.66447686]]\n",
      "\n",
      " [[0.191648   0.26187822 0.41823013]\n",
      "  [0.34527241 0.88521866 0.23132173]\n",
      "  [0.35211435 0.08902379 0.662796  ]]\n",
      "\n",
      " [[0.45781663 0.91359607 0.36859339]\n",
      "  [0.47155949 0.2410303  0.89086719]\n",
      "  [0.41976221 0.13143049 0.62947323]]] \n",
      "\n",
      "Horizontal slice 2: \n",
      "[[[0.68622381 0.31919255 0.82274915]\n",
      "  [0.06993418 0.57953603 0.97266028]\n",
      "  [0.77780253 0.41387309 0.23424726]]\n",
      "\n",
      " [[0.27503117 0.57177375 0.03527171]\n",
      "  [0.42471596 0.35137528 0.34319399]\n",
      "  [0.13990119 0.41987144 0.65385548]]\n",
      "\n",
      " [[0.83736394 0.58565316 0.28508291]\n",
      "  [0.72904419 0.28652191 0.63033563]\n",
      "  [0.30058469 0.63065687 0.35177673]]] \n",
      "\n"
     ]
    }
   ],
   "source": [
    "# Display slices\n",
    "for i in range(tensor.shape[0]):\n",
    "    print('Horizontal slice %d: ' % i)\n",
    "    print(tensor.data[i, :, :, :],'\\n')"
   ]
  },
  {
   "cell_type": "code",
   "execution_count": 14,
   "metadata": {},
   "outputs": [
    {
     "name": "stdout",
     "output_type": "stream",
     "text": [
      "Row fiber 1: \n",
      "[[0.2323676  0.00947516 0.99524197]\n",
      " [0.15700843 0.191648   0.45781663]\n",
      " [0.68622381 0.27503117 0.83736394]] \n",
      "\n",
      "Row fiber 2: \n",
      "[[0.57847143 0.67550349 0.87510419]\n",
      " [0.73363839 0.26187822 0.91359607]\n",
      " [0.31919255 0.57177375 0.58565316]] \n",
      "\n",
      "Row fiber 3: \n",
      "[[0.73047325 0.88774883 0.55994096]\n",
      " [0.05934281 0.41823013 0.36859339]\n",
      " [0.82274915 0.03527171 0.28508291]] \n",
      "\n",
      "Row fiber 4: \n",
      "[[0.80038272 0.85010254 0.66584403]\n",
      " [0.23679617 0.34527241 0.47155949]\n",
      " [0.06993418 0.42471596 0.72904419]] \n",
      "\n",
      "Row fiber 5: \n",
      "[[0.53977673 0.26483237 0.51370977]\n",
      " [0.36211092 0.88521866 0.2410303 ]\n",
      " [0.57953603 0.35137528 0.28652191]] \n",
      "\n"
     ]
    }
   ],
   "source": [
    "# Display fibers\n",
    "counter = 0\n",
    "target = 5\n",
    "\n",
    "\n",
    "for i in range(tensor.shape[0]):\n",
    "    for j in range(tensor.shape[1]):\n",
    "        for k in range(tensor.shape[3]):\n",
    "            if counter == 5:\n",
    "                break\n",
    "            counter+=1\n",
    "            print('Row fiber %d: ' % counter)\n",
    "            print(tensor.data[:, :, j, k],'\\n')"
   ]
  },
  {
   "cell_type": "markdown",
   "metadata": {},
   "source": [
    "### Solution: Part 2"
   ]
  },
  {
   "cell_type": "code",
   "execution_count": 15,
   "metadata": {},
   "outputs": [
    {
     "name": "stdout",
     "output_type": "stream",
     "text": [
      "This tensor is of order 3 and consists of 40 elements.\n",
      "Sizes and names of its modes are (4, 2, 5) and ['mode-0', 'mode-1', 'mode-2'] respectively.\n",
      "[[[ 1.  2.  4.  8. 16.]\n",
      "  [ 1.  2.  4.  8. 16.]]\n",
      "\n",
      " [[ 1.  2.  4.  8. 16.]\n",
      "  [ 1.  2.  4.  8. 16.]]\n",
      "\n",
      " [[ 1.  2.  4.  8. 16.]\n",
      "  [ 1.  2.  4.  8. 16.]]\n",
      "\n",
      " [[ 1.  2.  4.  8. 16.]\n",
      "  [ 1.  2.  4.  8. 16.]]]\n"
     ]
    }
   ],
   "source": [
    "# Create a tensor of order 3\n",
    "tensor = Tensor(np.ones([4, 2, 5]))\n",
    "for i in range(tensor.shape[2]):\n",
    "    tensor.data[:, :, i] = np.dot(tensor.data[:, :, i], 2 ** i)\n",
    "print(tensor)\n",
    "print(tensor.data)"
   ]
  },
  {
   "cell_type": "markdown",
   "metadata": {
    "toc-hr-collapsed": false
   },
   "source": [
    "# Unfolding\n",
    "\n",
    "Conventionally, unfolding is considered to be a process of element mapping from a tensor to a matrix. In other words, it arranges the mode-$n$ fibers of a tensor to be the matrix columns. Thus, the mode-$n$ unfolding is denoted as:\n",
    "\n",
    "$$\\mathbf{\\underline{A}} \\xrightarrow{n} \\mathbf{A}_{(n)}$$\n",
    "\n",
    "Thus, this operations requires to specify a mode along which a tensor will be unfolded. For a third order tensor, a visual representation of such operation is as following\n",
    "\n",
    "<img src=\"./imgs/unfolding.png\" alt=\"Drawing\" style=\"width: 600px;\"/>\n",
    "\n",
    "In `hottbox` this functionality is available through the corresponding methods of the `Tensor` object, for instance:"
   ]
  },
  {
   "cell_type": "code",
   "execution_count": 16,
   "metadata": {},
   "outputs": [
    {
     "name": "stdout",
     "output_type": "stream",
     "text": [
      "This tensor is of order 2 and consists of 24 elements.\n",
      "Sizes and names of its modes are (2, 12) and ['mode-0', 'mode-1_mode-2'] respectively.\n"
     ]
    },
    {
     "data": {
      "text/plain": [
       "array([[ 0,  1,  2,  3,  4,  5,  6,  7,  8,  9, 10, 11],\n",
       "       [12, 13, 14, 15, 16, 17, 18, 19, 20, 21, 22, 23]])"
      ]
     },
     "execution_count": 16,
     "metadata": {},
     "output_type": "execute_result"
    }
   ],
   "source": [
    "# Create 3-d array of data\n",
    "array_3d = np.arange(24).reshape((2, 3, 4))\n",
    "\n",
    "# Create tensor\n",
    "tensor = Tensor(array_3d)\n",
    "\n",
    "# Unfolding of a tensor\n",
    "tensor.unfold(mode=0)\n",
    "\n",
    "# Result preview\n",
    "print(tensor)\n",
    "tensor.data"
   ]
  },
  {
   "cell_type": "markdown",
   "metadata": {
    "toc-hr-collapsed": true
   },
   "source": [
    "## **Assigment 3**\n",
    "\n",
    "1. Create a tensor, $\\mathbf{\\underline{A}}$, of order 4, in such a way that its version unfolded along the second mode would have sizes `(5,72)`, that is $\\mathbf{A}_{(n)} \\in  \\mathbb{R}^{5 \\times 72}$. Validate your results by displaying the unfolded tensor."
   ]
  },
  {
   "cell_type": "markdown",
   "metadata": {},
   "source": [
    "### Solution : Part 1"
   ]
  },
  {
   "cell_type": "code",
   "execution_count": 17,
   "metadata": {},
   "outputs": [
    {
     "name": "stdout",
     "output_type": "stream",
     "text": [
      "This tensor is of order 4 and consists of 360 elements.\n",
      "Sizes and names of its modes are (6, 5, 4, 3) and ['mode-0', 'mode-1', 'mode-2', 'mode-3'] respectively.\n"
     ]
    }
   ],
   "source": [
    "# Create a tensor\n",
    "tensor = Tensor(np.arange(360).reshape(6, 5, 4, 3))\n",
    "print(tensor)"
   ]
  },
  {
   "cell_type": "code",
   "execution_count": 18,
   "metadata": {},
   "outputs": [
    {
     "name": "stdout",
     "output_type": "stream",
     "text": [
      "[[  0   1   2   3   4   5   6   7   8   9  10  11  60  61  62  63  64  65\n",
      "   66  67  68  69  70  71 120 121 122 123 124 125 126 127 128 129 130 131\n",
      "  180 181 182 183 184 185 186 187 188 189 190 191 240 241 242 243 244 245\n",
      "  246 247 248 249 250 251 300 301 302 303 304 305 306 307 308 309 310 311]\n",
      " [ 12  13  14  15  16  17  18  19  20  21  22  23  72  73  74  75  76  77\n",
      "   78  79  80  81  82  83 132 133 134 135 136 137 138 139 140 141 142 143\n",
      "  192 193 194 195 196 197 198 199 200 201 202 203 252 253 254 255 256 257\n",
      "  258 259 260 261 262 263 312 313 314 315 316 317 318 319 320 321 322 323]\n",
      " [ 24  25  26  27  28  29  30  31  32  33  34  35  84  85  86  87  88  89\n",
      "   90  91  92  93  94  95 144 145 146 147 148 149 150 151 152 153 154 155\n",
      "  204 205 206 207 208 209 210 211 212 213 214 215 264 265 266 267 268 269\n",
      "  270 271 272 273 274 275 324 325 326 327 328 329 330 331 332 333 334 335]\n",
      " [ 36  37  38  39  40  41  42  43  44  45  46  47  96  97  98  99 100 101\n",
      "  102 103 104 105 106 107 156 157 158 159 160 161 162 163 164 165 166 167\n",
      "  216 217 218 219 220 221 222 223 224 225 226 227 276 277 278 279 280 281\n",
      "  282 283 284 285 286 287 336 337 338 339 340 341 342 343 344 345 346 347]\n",
      " [ 48  49  50  51  52  53  54  55  56  57  58  59 108 109 110 111 112 113\n",
      "  114 115 116 117 118 119 168 169 170 171 172 173 174 175 176 177 178 179\n",
      "  228 229 230 231 232 233 234 235 236 237 238 239 288 289 290 291 292 293\n",
      "  294 295 296 297 298 299 348 349 350 351 352 353 354 355 356 357 358 359]]\n"
     ]
    }
   ],
   "source": [
    "# Display unfolded version\n",
    "print(tensor.unfold(mode=1).data)"
   ]
  },
  {
   "cell_type": "markdown",
   "metadata": {
    "toc-hr-collapsed": false
   },
   "source": [
    "# Mode-n product \n",
    "<img src=\"./imgs/mode_n_product.png\" alt=\"Drawing\" style=\"width: 600px;\"/>\n",
    "\n",
    "The mode-$n$ product is a multiplication of a tensor  by a matrix along the $n^{th}$ mode of a tensor. This essentially means that each mode-$n$ fiber should be multiplied by this matrix. Mathematically, this can be expressed as:\n",
    "\n",
    "$$\\mathbf{\\underline{X}} \\times_n \\mathbf{A} = \\mathbf{\\underline{Y}} \\quad \\Leftrightarrow  \\quad \\mathbf{Y}_{(n)} = \\mathbf{A} \\mathbf{X}_{(n)}  $$"
   ]
  },
  {
   "cell_type": "code",
   "execution_count": 19,
   "metadata": {},
   "outputs": [
    {
     "name": "stdout",
     "output_type": "stream",
     "text": [
      "This tensor is of order 3 and consists of 40 elements.\n",
      "Sizes and names of its modes are (2, 5, 4) and ['mode-0', 'mode-1', 'mode-2'] respectively.\n"
     ]
    },
    {
     "data": {
      "text/plain": [
       "array([[ 20,  23,  26,  29,  56,  59,  62,  65],\n",
       "       [ 56,  68,  80,  92, 200, 212, 224, 236],\n",
       "       [ 92, 113, 134, 155, 344, 365, 386, 407],\n",
       "       [128, 158, 188, 218, 488, 518, 548, 578],\n",
       "       [164, 203, 242, 281, 632, 671, 710, 749]])"
      ]
     },
     "execution_count": 19,
     "metadata": {},
     "output_type": "execute_result"
    }
   ],
   "source": [
    "I, J, K = 2, 3, 4\n",
    "J_new = 5\n",
    "\n",
    "# Create tensor\n",
    "array_3d = np.arange(I * J * K).reshape(I, J ,K)\n",
    "X = Tensor(array_3d)\n",
    "\n",
    "# Create matrix\n",
    "A = np.arange(J_new * J).reshape(J_new, J)\n",
    "\n",
    "# Performs Mode-n product \n",
    "Y = X.mode_n_product(A, mode=1, inplace=False)\n",
    "\n",
    "# Preview of resulting tensor\n",
    "print(Y)\n",
    "\n",
    "# Preview of its unfolded version\n",
    "Y.unfold(mode=1, inplace=False).data"
   ]
  },
  {
   "cell_type": "markdown",
   "metadata": {
    "toc-hr-collapsed": true
   },
   "source": [
    "## **Assignment 4**\n",
    "\n",
    "1. Perform the mode-$n$ product of a 3-rd order tensor, $\\mathbf{\\underline{X}}$, with a matrix, $\\mathbf{A} \\in  \\mathbb{R}^{5 \\times 4}$, provided that the resulting tensor, $\\mathbf{\\underline{Y}}$, consists of `100` elements. Validate your results. \n",
    "\n",
    "> **Note:** You are encouraged to experiment with the optional parameter `inplace` and to investigate its effect on the result."
   ]
  },
  {
   "cell_type": "markdown",
   "metadata": {},
   "source": [
    "### Solution: Part 1"
   ]
  },
  {
   "cell_type": "code",
   "execution_count": 20,
   "metadata": {},
   "outputs": [
    {
     "name": "stdout",
     "output_type": "stream",
     "text": [
      "This tensor is of order 3 and consists of 80 elements.\n",
      "Sizes and names of its modes are (5, 4, 4) and ['mode-0', 'mode-1', 'mode-2'] respectively.\n"
     ]
    }
   ],
   "source": [
    "# Create original tensor \n",
    "tensor = Tensor(np.arange(80).reshape(5, 4, 4))\n",
    "print(tensor)"
   ]
  },
  {
   "cell_type": "code",
   "execution_count": 21,
   "metadata": {},
   "outputs": [
    {
     "name": "stdout",
     "output_type": "stream",
     "text": [
      "This tensor is of order 2 and consists of 20 elements.\n",
      "Sizes and names of its modes are (5, 4) and ['mode-0', 'mode-1'] respectively.\n"
     ]
    }
   ],
   "source": [
    "# Create matrix\n",
    "matrix = Tensor(np.arange(20).reshape(5, 4))\n",
    "print(matrix)"
   ]
  },
  {
   "cell_type": "code",
   "execution_count": 22,
   "metadata": {},
   "outputs": [
    {
     "name": "stdout",
     "output_type": "stream",
     "text": [
      "This tensor is of order 3 and consists of 100 elements.\n",
      "Sizes and names of its modes are (5, 5, 4) and ['mode-0', 'mode-1', 'mode-2'] respectively.\n",
      "`Inplace` determines whether to overwrite the original variable or assign the value to a new variable.\n"
     ]
    }
   ],
   "source": [
    "# Perform mode-n product \n",
    "tensor_product = tensor.mode_n_product(matrix, mode=1, inplace=False)\n",
    "print(tensor_product)\n",
    "print('`Inplace` determines whether to overwrite the original variable or assign the value to a new variable.')"
   ]
  },
  {
   "cell_type": "code",
   "execution_count": 23,
   "metadata": {},
   "outputs": [
    {
     "name": "stdout",
     "output_type": "stream",
     "text": [
      "Equivalence of left and right = True\n"
     ]
    }
   ],
   "source": [
    "# Validate equivalence between the left and right hand side\n",
    "left = tensor_product.unfold(mode=1, inplace=False).data\n",
    "right = np.matmul(matrix.data, tensor.unfold(mode=1, inplace=False).data)\n",
    "res = np.array_equal(left, right)\n",
    "print('Equivalence of left and right =',res)"
   ]
  },
  {
   "cell_type": "markdown",
   "metadata": {},
   "source": [
    "# Properties of mode-n product\n",
    "\n",
    "1. For distinct modes in a series of multiplications, the order of the multiplication is irrelevent: \n",
    "\n",
    "    $$\\mathbf{\\underline{X}} \\times_n \\mathbf{A} \\times_m \\mathbf{B} = \\mathbf{\\underline{X}} \\times_m \\mathbf{B} \\times_n \\mathbf{A} \\quad (m \\neq n)$$\n",
    "\n",
    "1. However, this does not hold if the modes are the same :\n",
    "\n",
    "    $$\\mathbf{\\underline{X}} \\times_n \\mathbf{A} \\times_n \\mathbf{B} = \\mathbf{\\underline{X}} \\times_n (\\mathbf{B}\\mathbf{A})$$"
   ]
  },
  {
   "cell_type": "markdown",
   "metadata": {
    "toc-hr-collapsed": true
   },
   "source": [
    "## **Assignment 5**\n",
    "\n",
    "1. Validate both of the above properties empirically \n",
    "2. Prove the second property analytically\n",
    "\n",
    "> **Note:** Be aware of consequences of the optional parameter `inplace` (its default value is set to `True`)."
   ]
  },
  {
   "cell_type": "markdown",
   "metadata": {},
   "source": [
    "### Solution: Part 1"
   ]
  },
  {
   "cell_type": "code",
   "execution_count": 24,
   "metadata": {},
   "outputs": [
    {
     "name": "stdout",
     "output_type": "stream",
     "text": [
      "This tensor is of order 3 and consists of 6 elements.\n",
      "Sizes and names of its modes are (1, 2, 3) and ['mode-0', 'mode-1', 'mode-2'] respectively.\n"
     ]
    }
   ],
   "source": [
    "# Create tensor\n",
    "tensor = Tensor(np.arange(6).reshape(1, 2, 3))\n",
    "print(tensor)"
   ]
  },
  {
   "cell_type": "code",
   "execution_count": 25,
   "metadata": {},
   "outputs": [
    {
     "name": "stdout",
     "output_type": "stream",
     "text": [
      "This tensor is of order 2 and consists of 2 elements.\n",
      "Sizes and names of its modes are (2, 1) and ['mode-0', 'mode-1'] respectively. \n",
      "\n",
      "This tensor is of order 2 and consists of 6 elements.\n",
      "Sizes and names of its modes are (3, 2) and ['mode-0', 'mode-1'] respectively.\n"
     ]
    }
   ],
   "source": [
    "# Create matrices\n",
    "matrix_a = Tensor(np.arange(2).reshape(2, 1))\n",
    "matrix_b = Tensor(np.arange(6).reshape(3, 2))\n",
    "print(matrix_a, '\\n')\n",
    "print(matrix_b)"
   ]
  },
  {
   "cell_type": "code",
   "execution_count": 26,
   "metadata": {},
   "outputs": [
    {
     "name": "stdout",
     "output_type": "stream",
     "text": [
      "Property 1 = True\n"
     ]
    }
   ],
   "source": [
    "# Validate property 1\n",
    "p_1_left = tensor.mode_n_product(matrix_a, mode=0, inplace=False).mode_n_product(matrix_b, mode=1, inplace=False)\n",
    "p_1_right = tensor.mode_n_product(matrix_b, mode=1, inplace=False).mode_n_product(matrix_a, mode=0, inplace=False)\n",
    "res_1 = np.array_equal(p_1_left, p_1_right)\n",
    "print('Property 1 =', res_1)"
   ]
  },
  {
   "cell_type": "code",
   "execution_count": 27,
   "metadata": {},
   "outputs": [
    {
     "name": "stdout",
     "output_type": "stream",
     "text": [
      "Property 2 = True\n"
     ]
    }
   ],
   "source": [
    "# Validate property 2\n",
    "p_2_left = tensor.mode_n_product(matrix_a, mode=0, inplace=False).mode_n_product(matrix_b, mode=0, inplace=False)\n",
    "p_2_right = tensor.mode_n_product(np.matmul(matrix_b.data, matrix_a.data), mode=0, inplace=False)\n",
    "res_2 = np.array_equal(p_2_left, p_2_right)\n",
    "print('Property 2 =', res_2)"
   ]
  },
  {
   "cell_type": "markdown",
   "metadata": {
    "toc-hr-collapsed": true
   },
   "source": [
    "### Solution: Part 2\n",
    "\n",
    "Use [LaTeX syntax](https://stackoverflow.com/questions/13208286/how-to-write-latex-in-ipython-notebook) for analytical deriviations for the second property below.\n"
   ]
  },
  {
   "cell_type": "code",
   "execution_count": 28,
   "metadata": {},
   "outputs": [
    {
     "data": {
      "text/latex": [
       "Begin with the mode-$n$ product equation from Assignment 3:\n",
       "$$\\mathbf{\\underline{X}} \\times_n \\mathbf{A} = \\mathbf{\\underline{Y}} \\quad \\Leftrightarrow  \\quad \\mathbf{Y} = \\mathbf{A} \\mathbf{X}  $$\n",
       "Multiply both sides by $\\mathbf{B}$:\n",
       "$$\\mathbf{\\underline{X}} \\times_n \\mathbf{A} \\times_n \\mathbf{B} = \\mathbf{\\underline{Y}}  \\times_n \\mathbf{B}  $$\n",
       "Now, substitute $\\mathbf{\\underline{Y}}$ out:\n",
       "$$\\mathbf{\\underline{X}} \\times_n \\mathbf{A} \\times_n \\mathbf{B} = \\mathbf{A} \\mathbf{X}  \\times_n \\mathbf{B}  $$\n",
       "And rearranging gives the final result:\n",
       "$$\\mathbf{\\underline{X}} \\times_n \\mathbf{A} \\times_n \\mathbf{B} = \\mathbf{\\underline{X}} \\times_n (\\mathbf{B}\\mathbf{A})$$\n"
      ],
      "text/plain": [
       "<IPython.core.display.Latex object>"
      ]
     },
     "metadata": {},
     "output_type": "display_data"
    }
   ],
   "source": [
    "%%latex\n",
    "Begin with the mode-$n$ product equation from Assignment 3:\n",
    "$$\\mathbf{\\underline{X}} \\times_n \\mathbf{A} = \\mathbf{\\underline{Y}} \\quad \\Leftrightarrow  \\quad \\mathbf{Y} = \\mathbf{A} \\mathbf{X}  $$\n",
    "Multiply both sides by $\\mathbf{B}$:\n",
    "$$\\mathbf{\\underline{X}} \\times_n \\mathbf{A} \\times_n \\mathbf{B} = \\mathbf{\\underline{Y}}  \\times_n \\mathbf{B}  $$\n",
    "Now, substitute $\\mathbf{\\underline{Y}}$ out:\n",
    "$$\\mathbf{\\underline{X}} \\times_n \\mathbf{A} \\times_n \\mathbf{B} = \\mathbf{A} \\mathbf{X}  \\times_n \\mathbf{B}  $$\n",
    "And rearranging gives the final result:\n",
    "$$\\mathbf{\\underline{X}} \\times_n \\mathbf{A} \\times_n \\mathbf{B} = \\mathbf{\\underline{X}} \\times_n (\\mathbf{B}\\mathbf{A})$$\n"
   ]
  }
 ],
 "metadata": {
  "kernelspec": {
   "display_name": "Python 3",
   "language": "python",
   "name": "python3"
  },
  "language_info": {
   "codemirror_mode": {
    "name": "ipython",
    "version": 3
   },
   "file_extension": ".py",
   "mimetype": "text/x-python",
   "name": "python",
   "nbconvert_exporter": "python",
   "pygments_lexer": "ipython3",
   "version": "3.7.5"
  },
  "toc-autonumbering": false,
  "toc-showcode": false,
  "toc-showmarkdowntxt": false
 },
 "nbformat": 4,
 "nbformat_minor": 2
}
